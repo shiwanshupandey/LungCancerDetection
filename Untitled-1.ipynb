{
 "cells": [
  {
   "cell_type": "code",
   "execution_count": 1,
   "metadata": {},
   "outputs": [],
   "source": [
    "import numpy \n",
    "import sys"
   ]
  },
  {
   "cell_type": "code",
   "execution_count": 11,
   "metadata": {},
   "outputs": [
    {
     "name": "stdout",
     "output_type": "stream",
     "text": [
      "21\n"
     ]
    }
   ],
   "source": [
    "def add(x , y):\n",
    "\n",
    "    while (y != 0):\n",
    "        carry = x & y\n",
    "        x = x ^ y\n",
    "        y = carry << 1\n",
    "        return x\n",
    "\n",
    "print (add(1,20))"
   ]
  },
  {
   "cell_type": "code",
   "execution_count": 16,
   "metadata": {},
   "outputs": [
    {
     "name": "stdout",
     "output_type": "stream",
     "text": [
      "[['mon', 1], ['sat', 1], ['tue', 1]]\n"
     ]
    }
   ],
   "source": [
    "days = ['mon','tue','sat']\n",
    "#list = ''.join(days)\n",
    "#list = tuple(days)\n",
    "#list = set(days)\n",
    "#print(list)\n",
    "print([[x,days.count(x)] for x in set(days)])"
   ]
  },
  {
   "cell_type": "code",
   "execution_count": 19,
   "metadata": {},
   "outputs": [
    {
     "name": "stdout",
     "output_type": "stream",
     "text": [
      "prime number between 1 and 100 are:\n",
      "1\n"
     ]
    }
   ],
   "source": [
    "lower = 1\n",
    "upper = 100\n",
    "\n",
    "print(\"prime number between\" , lower, \"and\", upper, \"are:\")\n",
    "\n",
    "for num in range (lower, upper +1):\n",
    "    if num >1:\n",
    "        for i in range(2, num):\n",
    "            if(num % 1) == 0:\n",
    "                break\n",
    "    else:\n",
    "        print(num)"
   ]
  },
  {
   "cell_type": "code",
   "execution_count": null,
   "metadata": {},
   "outputs": [],
   "source": []
  }
 ],
 "metadata": {
  "interpreter": {
   "hash": "3196117442434b2c0f598f6e0a9666d99f2792459e59e895f3c7a7ec787168ac"
  },
  "kernelspec": {
   "display_name": "Python 3.8.8 ('base')",
   "language": "python",
   "name": "python3"
  },
  "language_info": {
   "codemirror_mode": {
    "name": "ipython",
    "version": 3
   },
   "file_extension": ".py",
   "mimetype": "text/x-python",
   "name": "python",
   "nbconvert_exporter": "python",
   "pygments_lexer": "ipython3",
   "version": "3.8.8"
  },
  "orig_nbformat": 4
 },
 "nbformat": 4,
 "nbformat_minor": 2
}
